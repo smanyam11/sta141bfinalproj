{
 "cells": [
  {
   "cell_type": "markdown",
   "metadata": {},
   "source": [
    "## STA 141B \n",
    "### Homework 4\n",
    "\n",
    "### Your Name: \n",
    "\n",
    "Submit a zip of the folder containing your edits to the following files: this file (hw4.ipynb), hw4_viz.html, and any other files required to view hw4_viz.html (such as data).  Feel free to simply zip back up the entire folder for your submission.  Within this notebook, work in between the exercise cells and be clear about your answers.  For example, you should add cells below the cell starting with 1.1 for the answer to 1.1.  You can break your answers into as many cells as you like.  Please do not clear your output so that we can see your answers without running all of the cells.  Edit the html file directly and view with a web browser and using `python -m http.server` to check it.  You may need to debug the javascript, in which case your should use your dev tools and then look at the \"console\"."
   ]
  },
  {
   "cell_type": "markdown",
   "metadata": {},
   "source": [
    "**Exercise 1.** We will start by web scraping the following webpage: `https://ycharts.com/indicators/sp_500_market_cap`.  Start by looking at the html (either through the dev tools for your browser or by viewing source).  We will be extracting the market cap data in the table displayed below.\n",
    "![](market_cap_html.png)\n",
    "You should use the `requests` package to read html and convert into a beautifulsoup object.  Find the table displayed above, using the `find_all` method.  Then print the html for this table using `print(table_found.prettify())` if `table_found` is the BeautifulSoup object corresponding to the table of interest.\n",
    "\n",
    "Some of you may find that there is a \"paywall\" if you request too many times.  I realized this after writing the hw, so I have also included the html file for you in `sp_500_market_cap.html`.  If the request does not work for that reason you can read it in with the following\n",
    "```\n",
    "with open('sp_500_market_cap.html','r') as file_ob:\n",
    "    req_text = file_ob.read()\n",
    "```"
   ]
  },
  {
   "cell_type": "code",
   "execution_count": null,
   "metadata": {},
   "outputs": [],
   "source": [
    "# 1.1) \n"
   ]
  },
  {
   "cell_type": "markdown",
   "metadata": {},
   "source": [
    "**Exercise 2.** Find all of the table rows in this table that contain the market cap data.  Convert this into a pandas dataframe that contains a 'date' variable and 'market_cap' variable where 'date' is a datetime object, and 'market_cap' is a float.  Plot this timeseries using DataFrame.plot."
   ]
  },
  {
   "cell_type": "markdown",
   "metadata": {},
   "source": [
    "**Exercise 3.** Included in this directory is the file `hw4_viz.html` which contains d3 code.  It comes from the following example: https://www.d3-graph-gallery.com/graph/line_basic.html  It is typical to just modify existing d3 code to suite your needs, so that will be what you will do here.  Do the following,\n",
    "1. Export your dataframe constructed to csv and modify the `hw4_viz.html` such that this is the csv file read in.\n",
    "2. Edit the following lines (in `hw4_viz.html`) so that they will use the right variable names...\n",
    "```\n",
    "  function(d){                                                                                                                              \n",
    "    return { date : d3.timeParse(\"%Y-%m-%d\")(d.date), value : d.value }                                                                     \n",
    "  },\n",
    "```\n",
    "3. Edit the following lines so that the y domain starts at the minimum value for the market_cap variable.\n",
    "```\n",
    "    var y = d3.scaleLinear()                                                                                                                \n",
    "      .domain([0, d3.max(data, function(d) { return +d.value; })])                                                                          \n",
    "      .range([ height, 0 ]);                                                                                                                \n",
    "```\n",
    "4. For the path tag defined in the following lines,\n",
    "```\n",
    "    svg.append(\"path\")                                                                                                                      \n",
    "      .datum(data)                                                                                                                          \n",
    "      .attr(\"fill\", \"none\")                                                                                                                 \n",
    "      .attr(\"stroke\", \"steelblue\")                                                                                                          \n",
    "      .attr(\"stroke-width\", 1.5)                                                                                                            \n",
    "      .attr(\"d\", d3.line()                                                                                                                  \n",
    "        .x(function(d) { return x(d.date) })                                                                                                \n",
    "        .y(function(d) { return y(d.value) })                                                                                               \n",
    "        )   \n",
    "```\n",
    "add an 'opacity' attribute which is set to '0.5'.\n",
    "At this point when you view the `hw4_viz.html` in the browser (from `python -m http.server`) then you should see the following,\n",
    "![](market_cap.png)\n",
    "\n",
    "5. (bonus +15 points) Make it so that when you mouse over the line it sets the opacity of the path to '1' and then when you mouse out it sets the opacity back to '0.5'.  This should use the .on() method with the 'mouseover' and 'mouseout' functions.  Recall the `d3.select(this)` idiom."
   ]
  }
 ],
 "metadata": {
  "kernelspec": {
   "display_name": "Python 3",
   "language": "python",
   "name": "python3"
  },
  "language_info": {
   "codemirror_mode": {
    "name": "ipython",
    "version": 3
   },
   "file_extension": ".py",
   "mimetype": "text/x-python",
   "name": "python",
   "nbconvert_exporter": "python",
   "pygments_lexer": "ipython3",
   "version": "3.8.5"
  }
 },
 "nbformat": 4,
 "nbformat_minor": 5
}
